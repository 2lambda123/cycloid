{
 "cells": [
  {
   "cell_type": "code",
   "execution_count": 214,
   "metadata": {},
   "outputs": [],
   "source": [
    "import numpy as np\n",
    "import cv2\n",
    "import matplotlib.pyplot as plt\n",
    "%matplotlib inline\n",
    "%load_ext autoreload\n",
    "%autoreload 2"
   ]
  },
  {
   "cell_type": "code",
   "execution_count": 227,
   "metadata": {},
   "outputs": [],
   "source": [
    "import recordreader\n",
    "import pf360\n",
    "import params\n",
    "import time"
   ]
  },
  {
   "cell_type": "code",
   "execution_count": 228,
   "metadata": {},
   "outputs": [],
   "source": [
    "# generate remap table for fisheye camera calibration\n",
    "# generates table for a wxh image\n",
    "# for a given latitude range (specified in pixels above horizon / equator)\n",
    "def camcal(w, h, lat0, lat1):\n",
    "    scale = h / 1944.0\n",
    "    camera_matrix = np.load(\"../../tools/camcal/camera_matrix.npy\")\n",
    "    dist_coeffs = np.load(\"../../tools/camcal/dist_coeffs.npy\")\n",
    "    fx, fy = np.diag(camera_matrix)[:2] * scale\n",
    "    cx, cy = camera_matrix[:2, 2] * scale\n",
    "    k1 = dist_coeffs[0]\n",
    "    \n",
    "    theta = np.pi/2 + np.arange(-lat0, -lat1) / fx\n",
    "    #theta = np.pi/2 + np.linspace(-np.pi/2, np.pi/2, 300)\n",
    "    theta = theta*(1 + k1*theta**2)\n",
    "    midtheta = np.pi/2*(1 + k1*(np.pi/2)**2)\n",
    "    npix = int(2 * np.pi * fx * midtheta + 0.5)\n",
    "    t = np.linspace(0, 2*np.pi, npix)\n",
    "    x = fx*np.outer(theta, np.cos(t)) + cx\n",
    "    y = fy*np.outer(theta, np.sin(t)) + cy\n",
    "    return np.stack([x, y])[:, :-1].transpose(1, 2, 0).astype(np.float32)\n",
    "    \n",
    "m1 = camcal(320, 240, 10, -5)\n",
    "ym1, ym2 = cv2.convertMaps(m1*2, None, cv2.CV_16SC2)\n",
    "uvm1, uvm2 = cv2.convertMaps(m1, None, cv2.CV_16SC2)"
   ]
  },
  {
   "cell_type": "code",
   "execution_count": 229,
   "metadata": {},
   "outputs": [],
   "source": [
    "def yuvremap(yuv):\n",
    "    # assumes 640x480 YUV420 image\n",
    "    y = cv2.remap(yuv[:480], ym1, ym2, cv2.INTER_LINEAR)\n",
    "    u = cv2.remap(yuv[480:480+120].reshape((240, 320)), uvm1, uvm2, cv2.INTER_LINEAR)\n",
    "    v = cv2.remap(yuv[480+120:].reshape((240, 320)), uvm1, uvm2, cv2.INTER_LINEAR)\n",
    "    return np.stack([y, u, v]).transpose(1, 2, 0)"
   ]
  },
  {
   "cell_type": "code",
   "execution_count": 248,
   "metadata": {},
   "outputs": [
    {
     "data": {
      "text/plain": [
       "-1"
      ]
     },
     "execution_count": 248,
     "metadata": {},
     "output_type": "execute_result"
    }
   ],
   "source": [
    "def frameloop():\n",
    "    a = 0.02  # map scale\n",
    "    L = pf360.L\n",
    "    \n",
    "    np.random.seed(1)\n",
    "    Np = 300\n",
    "    X = np.zeros((3, Np))\n",
    "    X[0] = 0.125 * pf360.pseudorandn(Np)\n",
    "    X[1] = 0.125 * pf360.pseudorandn(Np)\n",
    "    X[2] = 0.1 * pf360.pseudorandn(Np)\n",
    "    X.T[:, :3] += pf360.Lhome\n",
    "    prevtstamp = None\n",
    "    last_wheels = None\n",
    "    vest2 = 0.0\n",
    "    \n",
    "    bg = cv2.imread(\"bball-2cm.png\")\n",
    "    f = open(\"/opt/data/cycloid/cl20190119/cycloid-20190413-025257.rec\", \"rb\")\n",
    "    while True:\n",
    "        ok, framedata = recordreader.read_frame(f)\n",
    "        if not ok:\n",
    "            break\n",
    "            \n",
    "        tstamp, carstate, particles, controldata, conesx, frame = framedata\n",
    "        throttle, steering, accel, gyro, servo, wheels, periods = carstate\n",
    "        frame = frame.reshape((-1, 640))\n",
    "        if prevtstamp is None:\n",
    "            prevtstamp = tstamp - 1.0 / 30\n",
    "        if last_wheels is None:\n",
    "            last_wheels = wheels\n",
    "        dt = tstamp - prevtstamp\n",
    "        if dt > 0.1:\n",
    "            print('WARNING: frame', i, 'has a', dt, 'second gap')\n",
    "        prevtstamp = tstamp\n",
    "        tsfrac = tstamp - int(tstamp)\n",
    "        tstring = time.strftime(\"%H:%M:%S.\", time.localtime(tstamp)) + \"%02d\" % (tsfrac*100)\n",
    "        gyroz = gyro[2]  # we only need the yaw rate from the gyro\n",
    "        dw = wheels - last_wheels\n",
    "        last_wheels = wheels\n",
    "        #print('wheels', dw, 'periods', periods, 'gyro', gyroz, 'dt', dt)\n",
    "        ds = np.sum(dw) * params.WHEEL_TICK_LENGTH / params.NUM_ENCODERS\n",
    "        vest2 += 0.2*(ds / dt - vest2)\n",
    "        pf360.step(X, dt, ds, gyroz, vest2, accel[1]*9.8)\n",
    "        \n",
    "        yuv = yuvremap(frame)\n",
    "        bgr = cv2.cvtColor(yuv, cv2.COLOR_YUV2BGR)\n",
    "        uv = yuv[:, :, 1:3].astype(np.int32) - 128\n",
    "        #thr = ((uv[:, :, 0])/2 - (uv[:, :, 1])/2 + 128).astype(np.uint8)\n",
    "        #thr = (uv[:, :, 1]/4 - uv[:, :, 0]/4 + 128).astype(np.uint8)\n",
    "        activation = (uv[:, :, 1]-40)*10\n",
    "        thr = np.clip(activation + 128, 0, 255).astype(np.uint8)\n",
    "        activation = np.sum(activation, axis=0)\n",
    "        thr[:, np.argmax(activation)] = 255\n",
    "        cv2.imshow(\"bgr\", bgr)\n",
    "        cv2.imshow(\"thr\", thr)\n",
    "        \n",
    "        LL = pf360.likelihood(X, activation)\n",
    "        \n",
    "        mapview = bg.copy()\n",
    "        xi = np.uint32(X[0]/a)\n",
    "        xj = np.uint32(-X[1]/a)\n",
    "        xin = (xi >= 0) & (xi < mapview.shape[1]) & (xj >= 0) & (xj < mapview.shape[0])\n",
    "        mapview[xj[xin], xi[xin], :] = 0\n",
    "        mapview[xj[xin], xi[xin], 1] = 255\n",
    "        mapview[xj[xin], xi[xin], 2] = 255\n",
    "        \n",
    "        x = np.mean(X, axis=1)\n",
    "        P = np.cov(X)\n",
    "        x0, y0 = x[:2] / a\n",
    "        dx, dy = 20*np.cos(x[2]), 20*np.sin(x[2])\n",
    "        U, V, _ = np.linalg.svd(P[:2, :2])\n",
    "        axes = np.sqrt(V)\n",
    "        angle = -np.arctan2(U[0, 1], U[0, 0]) * 180 / np.pi\n",
    "        cv2.ellipse(mapview, (int(x0), -int(y0)), (int(axes[0]), int(axes[1])),\n",
    "                    angle, 0, 360, (0, 0, 220), 1)\n",
    "        cv2.circle(mapview, (int(x0), -int(y0)), 3, (0, 0, 220), 2)\n",
    "        cv2.line(mapview, (int(x0), -int(y0)), (int(x0+dx), -int(y0+dy)), (0, 0, 220), 2)\n",
    "\n",
    "        for l in range(len(L)):\n",
    "            lxy = (int(L[l, 0]/a), -int(L[l, 1]/a))                                                                        \n",
    "            cv2.circle(mapview, lxy, 3, (0, 128, 255), 3)                                                                           \n",
    "            cv2.putText(mapview, \"%d\" % l, (lxy[0] + 3, lxy[1] + 3), cv2.FONT_HERSHEY_SIMPLEX, 0.6, (0, 0, 0), 1, cv2.LINE_AA)      \n",
    "            \n",
    "        cv2.putText(mapview, tstring, (20, 30), cv2.FONT_HERSHEY_SIMPLEX, 0.5, (255, 255, 255), 1, cv2.LINE_AA)\n",
    "        cv2.imshow(\"map\", mapview)\n",
    "\n",
    "        k = cv2.waitKey()\n",
    "        if k == ord('q'):\n",
    "            break\n",
    "            ts\n",
    "\n",
    "frameloop()\n",
    "cv2.destroyAllWindows()\n",
    "cv2.waitKey(1)"
   ]
  },
  {
   "cell_type": "code",
   "execution_count": 247,
   "metadata": {},
   "outputs": [
    {
     "data": {
      "text/plain": [
       "array([[ 2.3999999, -2.32     ],\n",
       "       [ 2.3999999, -5.98     ],\n",
       "       [ 8.86     , -4.18     ],\n",
       "       [12.5199995, -2.32     ],\n",
       "       [12.5199995, -5.98     ],\n",
       "       [ 6.8599997, -7.14     ]], dtype=float32)"
      ]
     },
     "execution_count": 247,
     "metadata": {},
     "output_type": "execute_result"
    }
   ],
   "source": [
    "c = [[120, 116],\n",
    " [120, 299],\n",
    " [443, 209],\n",
    " [626, 116],\n",
    " [626, 299],\n",
    "    [343, 357]]\n",
    "c = np.array(c, np.float32)\n",
    "c *= 0.02\n",
    "c[:, 1] = -c[:, 1]\n",
    "c"
   ]
  },
  {
   "cell_type": "code",
   "execution_count": null,
   "metadata": {},
   "outputs": [],
   "source": []
  }
 ],
 "metadata": {
  "kernelspec": {
   "display_name": "Python 3",
   "language": "python",
   "name": "python3"
  },
  "language_info": {
   "codemirror_mode": {
    "name": "ipython",
    "version": 3
   },
   "file_extension": ".py",
   "mimetype": "text/x-python",
   "name": "python",
   "nbconvert_exporter": "python",
   "pygments_lexer": "ipython3",
   "version": "3.7.3"
  }
 },
 "nbformat": 4,
 "nbformat_minor": 2
}
