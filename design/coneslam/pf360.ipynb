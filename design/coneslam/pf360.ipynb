{
 "cells": [
  {
   "cell_type": "code",
   "execution_count": 14,
   "metadata": {},
   "outputs": [
    {
     "name": "stdout",
     "output_type": "stream",
     "text": [
      "The autoreload extension is already loaded. To reload it, use:\n",
      "  %reload_ext autoreload\n"
     ]
    }
   ],
   "source": [
    "import numpy as np\n",
    "import cv2\n",
    "import matplotlib.pyplot as plt\n",
    "%matplotlib inline\n",
    "%load_ext autoreload\n",
    "%autoreload 2"
   ]
  },
  {
   "cell_type": "code",
   "execution_count": 15,
   "metadata": {},
   "outputs": [],
   "source": [
    "import recordreader\n",
    "import pf360\n",
    "import params\n",
    "import time"
   ]
  },
  {
   "cell_type": "code",
   "execution_count": 36,
   "metadata": {},
   "outputs": [],
   "source": [
    "# generate remap table for fisheye camera calibration\n",
    "# generates table for a wxh image\n",
    "# for a given latitude range (specified in pixels above horizon / equator)\n",
    "def camcal(w, h, lat0, lat1, lon0=0, lon1=2*np.pi):\n",
    "    scale = h / 1944.0\n",
    "    camera_matrix = np.load(\"../../tools/camcal/camera_matrix.npy\")\n",
    "    dist_coeffs = np.load(\"../../tools/camcal/dist_coeffs.npy\")\n",
    "    fx, fy = np.diag(camera_matrix)[:2] * scale\n",
    "    cx, cy = camera_matrix[:2, 2] * scale\n",
    "    k1 = dist_coeffs[0]\n",
    "    \n",
    "    theta = np.pi/2 + np.arange(-lat0, -lat1) / fx\n",
    "    #theta = np.pi/2 + np.linspace(-np.pi/2, np.pi/2, 300)\n",
    "    theta = theta*(1 + k1*theta**2)\n",
    "    midtheta = np.pi/2*(1 + k1*(np.pi/2)**2)\n",
    "    npix = int(2 * np.pi * fx * midtheta + 0.5)\n",
    "    t = np.linspace(lon0, lon1, npix)[:-1]\n",
    "    x = fx*np.outer(theta, np.cos(t)) + cx\n",
    "    y = fy*np.outer(theta, np.sin(t)) + cy\n",
    "    return np.stack([x, y])[:, :-1].transpose(1, 2, 0).astype(np.float32)\n",
    "    \n",
    "m1 = camcal(320, 240, 10, -5)\n",
    "ym1, ym2 = cv2.convertMaps(m1*2, None, cv2.CV_16SC2)\n",
    "uvm1, uvm2 = cv2.convertMaps(m1, None, cv2.CV_16SC2)\n",
    "\n",
    "m2 = camcal(640, 480, 300, -100, np.pi, -np.pi)\n",
    "m2a, m2b = cv2.convertMaps(m2, None, cv2.CV_16SC2)\n"
   ]
  },
  {
   "cell_type": "code",
   "execution_count": 37,
   "metadata": {},
   "outputs": [],
   "source": [
    "def yuvremap(yuv):\n",
    "    # assumes 640x480 YUV420 image\n",
    "    y = cv2.remap(yuv[:480], ym1, ym2, cv2.INTER_LINEAR)\n",
    "    u = cv2.remap(yuv[480:480+120].reshape((240, 320)), uvm1, uvm2, cv2.INTER_LINEAR)\n",
    "    v = cv2.remap(yuv[480+120:].reshape((240, 320)), uvm1, uvm2, cv2.INTER_LINEAR)\n",
    "    return np.stack([y, u, v]).transpose(1, 2, 0)"
   ]
  },
  {
   "cell_type": "code",
   "execution_count": 50,
   "metadata": {},
   "outputs": [
    {
     "data": {
      "text/plain": [
       "-1"
      ]
     },
     "execution_count": 50,
     "metadata": {},
     "output_type": "execute_result"
    },
    {
     "data": {
      "image/png": "[encoded data removed]",
      "text/plain": [
       "<Figure size 432x288 with 1 Axes>"
      ]
     },
     "metadata": {
      "needs_background": "light"
     },
     "output_type": "display_data"
    }
   ],
   "source": [
    "def frameloop():\n",
    "    a = 0.02  # map scale\n",
    "    L = pf360.L\n",
    "    \n",
    "    np.random.seed(1)\n",
    "    Np = 300\n",
    "    X = np.zeros((3, Np))\n",
    "    X[0] = 0.125 * pf360.pseudorandn(Np)\n",
    "    X[1] = 0.125 * pf360.pseudorandn(Np)\n",
    "    X[2] = 0.1 * pf360.pseudorandn(Np)\n",
    "    X.T[:, :3] += pf360.Lhome\n",
    "    prevtstamp = None\n",
    "    last_wheels = None\n",
    "    vest2 = 0.0\n",
    "    \n",
    "    bg = cv2.imread(\"bball-2cm.png\")\n",
    "    f = open(\"/Users/asloane/git/cycloid/logs/cl20190119/cycloid-20190413-025257.rec\", \"rb\")\n",
    "    while True:\n",
    "        ok, framedata = recordreader.read_frame(f)\n",
    "        if not ok:\n",
    "            break\n",
    "            \n",
    "        tstamp, carstate, particles, controldata, conesx, frame = framedata\n",
    "        throttle, steering, accel, gyro, servo, wheels, periods = carstate\n",
    "        frame = frame.reshape((-1, 640))\n",
    "        if prevtstamp is None:\n",
    "            prevtstamp = tstamp - 1.0 / 30\n",
    "        if last_wheels is None:\n",
    "            last_wheels = wheels\n",
    "        dt = tstamp - prevtstamp\n",
    "        if dt > 0.1:\n",
    "            print('WARNING: frame', i, 'has a', dt, 'second gap')\n",
    "        prevtstamp = tstamp\n",
    "        tsfrac = tstamp - int(tstamp)\n",
    "        tstring = time.strftime(\"%H:%M:%S.\", time.localtime(tstamp)) + \"%02d\" % (tsfrac*100)\n",
    "        gyroz = gyro[2]  # we only need the yaw rate from the gyro\n",
    "        dw = wheels - last_wheels\n",
    "        last_wheels = wheels\n",
    "        #print('wheels', dw, 'periods', periods, 'gyro', gyroz, 'dt', dt)\n",
    "        ds = np.sum(dw) * params.WHEEL_TICK_LENGTH / params.NUM_ENCODERS\n",
    "        vest2 += 0.2*(ds / dt - vest2)\n",
    "        pf360.step(X, dt, ds, gyroz, vest2, accel[1]*9.8)\n",
    "        \n",
    "        yuv = yuvremap(frame)\n",
    "        bgr = cv2.cvtColor(frame, cv2.COLOR_YUV2BGR_I420)\n",
    "        #bgr = cv2.cvtColor(yuv, cv2.COLOR_YUV2BGR)\n",
    "        uv = yuv[:, :, 1:3].astype(np.int32) - 128\n",
    "        #thr = ((uv[:, :, 0])/2 - (uv[:, :, 1])/2 + 128).astype(np.uint8)\n",
    "        #thr = (uv[:, :, 1]/4 - uv[:, :, 0]/4 + 128).astype(np.uint8)\n",
    "        #activation = (uv[:, :, 1]-40)*10 + 128\n",
    "        activation = uv[:, :, 1]\n",
    "        activation[yuv[:, :, 1] == 0] = 0\n",
    "        thr = np.clip(activation + 128, 0, 255).astype(np.uint8)\n",
    "        activation = np.sum(activation, axis=0)\n",
    "        thr[:, np.argmax(activation)] = 255\n",
    "        \n",
    "        LL, coneangle = pf360.likelihood(X, activation)\n",
    "        conex = coneangle.astype(np.int) % len(activation)\n",
    "        thr[10:, conex.reshape(-1)] = 255\n",
    "        if ds > 0:\n",
    "            X = pf360.resample_particles(X, LL)\n",
    "        \n",
    "\n",
    "        #cv2.imshow(\"bgr\", bgr)\n",
    "        #cv2.imshow(\"bgr\", cv2.remap(bgr, m2a, m2b, cv2.INTER_LINEAR))\n",
    "        cv2.imshow(\"thr\", thr)\n",
    "\n",
    "        mapview = bg.copy()\n",
    "        xi = np.uint32(X[0]/a)\n",
    "        xj = np.uint32(-X[1]/a)\n",
    "        xin = (xi >= 0) & (xi < mapview.shape[1]) & (xj >= 0) & (xj < mapview.shape[0])\n",
    "        mapview[xj[xin], xi[xin], :] = 0\n",
    "        mapview[xj[xin], xi[xin], 1] = 255\n",
    "        mapview[xj[xin], xi[xin], 2] = 255\n",
    "        \n",
    "        x = np.mean(X, axis=1)\n",
    "        P = np.cov(X)\n",
    "        x0, y0 = x[:2] / a\n",
    "        dx, dy = 20*np.cos(x[2]), 20*np.sin(x[2])\n",
    "        U, V, _ = np.linalg.svd(P[:2, :2])\n",
    "        axes = np.sqrt(V)\n",
    "        angle = -np.arctan2(U[0, 1], U[0, 0]) * 180 / np.pi\n",
    "        cv2.ellipse(mapview, (int(x0), -int(y0)), (int(axes[0]), int(axes[1])),\n",
    "                    angle, 0, 360, (0, 0, 220), 1)\n",
    "        cv2.circle(mapview, (int(x0), -int(y0)), 3, (0, 0, 220), 2)\n",
    "        cv2.line(mapview, (int(x0), -int(y0)), (int(x0+dx), -int(y0+dy)), (0, 0, 220), 2)\n",
    "\n",
    "        for l in range(len(L)):\n",
    "            lxy = (int(L[l, 0]/a), -int(L[l, 1]/a))                                                                        \n",
    "            cv2.circle(mapview, lxy, 3, (0, 128, 255), 3)                                                                           \n",
    "            cv2.putText(mapview, \"%d\" % l, (lxy[0] + 3, lxy[1] + 3), cv2.FONT_HERSHEY_SIMPLEX, 0.6, (0, 0, 0), 1, cv2.LINE_AA)      \n",
    "            \n",
    "        cv2.putText(mapview, tstring, (20, 30), cv2.FONT_HERSHEY_SIMPLEX, 0.5, (255, 255, 255), 1, cv2.LINE_AA)\n",
    "        cv2.imshow(\"map\", mapview)\n",
    "\n",
    "        k = cv2.waitKey()\n",
    "        if k == ord('q'):\n",
    "            break\n",
    "            ts\n",
    "    return X, activation\n",
    "\n",
    "\n",
    "X, activation = frameloop()\n",
    "plt.plot(activation)\n",
    "    \n",
    "cv2.destroyAllWindows()\n",
    "cv2.waitKey(1)"
   ]
  },
  {
   "cell_type": "code",
   "execution_count": null,
   "metadata": {},
   "outputs": [],
   "source": []
  },
  {
   "cell_type": "code",
   "execution_count": null,
   "metadata": {},
   "outputs": [],
   "source": []
  },
  {
   "cell_type": "code",
   "execution_count": null,
   "metadata": {},
   "outputs": [],
   "source": []
  }
 ],
 "metadata": {
  "kernelspec": {
   "display_name": "Python 3",
   "language": "python",
   "name": "python3"
  },
  "language_info": {
   "codemirror_mode": {
    "name": "ipython",
    "version": 3
   },
   "file_extension": ".py",
   "mimetype": "text/x-python",
   "name": "python",
   "nbconvert_exporter": "python",
   "pygments_lexer": "ipython3",
   "version": "3.7.1"
  }
 },
 "nbformat": 4,
 "nbformat_minor": 2
}
