{
 "cells": [
  {
   "cell_type": "code",
   "execution_count": 2,
   "metadata": {},
   "outputs": [],
   "source": [
    "import numpy as np\n",
    "import cv2\n",
    "import matplotlib.pyplot as plt\n",
    "%matplotlib inline\n",
    "%load_ext autoreload\n",
    "%autoreload 2"
   ]
  },
  {
   "cell_type": "code",
   "execution_count": 3,
   "metadata": {},
   "outputs": [],
   "source": [
    "import recordreader\n",
    "import pf360\n",
    "import params\n",
    "import time"
   ]
  },
  {
   "cell_type": "code",
   "execution_count": 17,
   "metadata": {},
   "outputs": [],
   "source": [
    "\n",
    "m1 = pf360.camcal(320, 240, 10, -5, -np.pi/4, 2*np.pi - np.pi/4)\n",
    "ym1, ym2 = cv2.convertMaps(m1*2, None, cv2.CV_16SC2)\n",
    "uvm1, uvm2 = cv2.convertMaps(m1, None, cv2.CV_16SC2)\n",
    "\n",
    "m2 = pf360.camcal(640, 480, 300, -100, np.pi - np.pi/4, -np.pi - np.pi/4)\n",
    "m2a, m2b = cv2.convertMaps(m2, None, cv2.CV_16SC2)\n"
   ]
  },
  {
   "cell_type": "code",
   "execution_count": 18,
   "metadata": {},
   "outputs": [],
   "source": [
    "def yuvremap(yuv):\n",
    "    # assumes 640x480 YUV420 image\n",
    "    y = cv2.remap(yuv[:480], ym1, ym2, cv2.INTER_LINEAR)\n",
    "    u = cv2.remap(yuv[480:480+120].reshape((240, 320)), uvm1, uvm2, cv2.INTER_LINEAR)\n",
    "    v = cv2.remap(yuv[480+120:].reshape((240, 320)), uvm1, uvm2, cv2.INTER_LINEAR)\n",
    "    return np.stack([y, u, v]).transpose(1, 2, 0)"
   ]
  },
  {
   "cell_type": "code",
   "execution_count": 19,
   "metadata": {},
   "outputs": [
    {
     "data": {
      "text/plain": [
       "-1"
      ]
     },
     "execution_count": 19,
     "metadata": {},
     "output_type": "execute_result"
    },
    {
     "data": {
      "image/png": "[encoded data removed]",
      "text/plain": [
       "<Figure size 432x288 with 1 Axes>"
      ]
     },
     "metadata": {
      "needs_background": "light"
     },
     "output_type": "display_data"
    }
   ],
   "source": [
    "def frameloop():\n",
    "    a = 0.02  # map scale\n",
    "    L = pf360.L\n",
    "    \n",
    "    np.random.seed(1)\n",
    "    Np = 300\n",
    "    X = np.zeros((3, Np))\n",
    "    X[0] = 0.125 * pf360.pseudorandn(Np)\n",
    "    X[1] = 0.125 * pf360.pseudorandn(Np)\n",
    "    X[2] = 0.1 * pf360.pseudorandn(Np)\n",
    "    X.T[:, :3] += pf360.Lhome\n",
    "    prevtstamp = None\n",
    "    last_wheels = None\n",
    "    vest2 = 0.0\n",
    "    \n",
    "    bg = cv2.imread(\"bball-2cm.png\")\n",
    "    #f = open(\"/opt/data/cycloid/home20190416/cycloid-20190416-231553.rec\", \"rb\")\n",
    "    f = open(\"/opt/data/cycloid/home20190416/cycloid-20190418-181923.rec\", \"rb\")\n",
    "    \n",
    "    while True:\n",
    "        ok, framedata = recordreader.read_frame(f)\n",
    "        if not ok:\n",
    "            break\n",
    "\n",
    "        #tstamp, carstate, particles, controldata, conesx, frame = framedata\n",
    "        \n",
    "        tstamp = framedata['tstamp']\n",
    "        frame = framedata['yuv420']\n",
    "        throttle, steering, accel, gyro, servo, wheels, periods = framedata['carstate']\n",
    "        \n",
    "        if prevtstamp is None:\n",
    "            prevtstamp = tstamp - 1.0 / 30\n",
    "        if last_wheels is None:\n",
    "            last_wheels = wheels\n",
    "        dt = tstamp - prevtstamp\n",
    "        if dt > 0.1:\n",
    "            print('WARNING: frame', i, 'has a', dt, 'second gap')\n",
    "        prevtstamp = tstamp\n",
    "        tsfrac = tstamp - int(tstamp)\n",
    "        tstring = time.strftime(\"%H:%M:%S.\", time.localtime(tstamp)) + \"%02d\" % (tsfrac*100)\n",
    "        gyroz = gyro[2]  # we only need the yaw rate from the gyro\n",
    "        dw = wheels - last_wheels\n",
    "        last_wheels = wheels\n",
    "        #print('wheels', dw, 'periods', periods, 'gyro', gyroz, 'dt', dt)\n",
    "        ds = np.sum(dw) * params.WHEEL_TICK_LENGTH / params.NUM_ENCODERS\n",
    "        vest2 += 0.2*(ds / dt - vest2)\n",
    "        \n",
    "        #if np.abs(gyroz) > 0.5:\n",
    "        #    print(vest2, accel[1]*9.8/gyroz)\n",
    "        #    ds = -dt*accel[1]*9.8/gyroz\n",
    "        \n",
    "        pf360.step(X, dt, ds, gyroz, vest2, accel[1]*9.8)\n",
    "        \n",
    "        yuv = yuvremap(frame)\n",
    "        bgr = cv2.cvtColor(frame, cv2.COLOR_YUV2BGR_I420)\n",
    "        #bgr = cv2.cvtColor(yuv, cv2.COLOR_YUV2BGR)\n",
    "        uv = yuv[:, :, 1:3].astype(np.int32) - 128\n",
    "        #thr = ((uv[:, :, 0])/2 - (uv[:, :, 1])/2 + 128).astype(np.uint8)\n",
    "        #thr = (uv[:, :, 1]/4 - uv[:, :, 0]/4 + 128).astype(np.uint8)\n",
    "        #activation = (uv[:, :, 1]-40)*10 + 128\n",
    "        activation = uv[:, :, 1]\n",
    "        activation[yuv[:, :, 0] == 0] = 0\n",
    "        thr = np.clip(activation + 128, 0, 255).astype(np.uint8)\n",
    "        activation = np.sum(activation, axis=0)\n",
    "        thr[:, np.argmax(activation)] = 255\n",
    "        \n",
    "        LL, coneangle, _ = pf360.likelihood(X, activation)\n",
    "        conex = coneangle.astype(np.int) % len(activation)\n",
    "        #thr[np.random.randint(4, size=300*5).astype(np.int) + 10, conex.reshape(-1)] = 255\n",
    "        hist = np.zeros(thr.shape[1])\n",
    "        np.add.at(hist, conex.reshape(-1), 10)\n",
    "        thr[10:15] = np.clip(hist, 0, 255)\n",
    "        if 'c0' in framedata:\n",
    "            N = thr.shape[1]\n",
    "            thr = np.vstack([thr, np.zeros((10, N), np.uint8)])\n",
    "            thr[-10:-5, framedata['c0'] % N] = 255\n",
    "            thr[-5:, framedata['c1'] % N] = 255\n",
    "            \n",
    "        if ds > 0:\n",
    "            X = pf360.resample_particles(X, LL)\n",
    "        \n",
    "\n",
    "        #cv2.imshow(\"bgr\", bgr)\n",
    "        cv2.imshow(\"bgr\", cv2.remap(bgr, m2a, m2b, cv2.INTER_LINEAR))\n",
    "        cv2.imshow(\"thr\", thr)\n",
    "\n",
    "        mapview = bg.copy()\n",
    "        xi = np.uint32(X[0]/a)\n",
    "        xj = np.uint32(-X[1]/a)\n",
    "        xin = (xi >= 0) & (xi < mapview.shape[1]) & (xj >= 0) & (xj < mapview.shape[0])\n",
    "        mapview[xj[xin], xi[xin], :] = 0\n",
    "        mapview[xj[xin], xi[xin], 1] = 255\n",
    "        mapview[xj[xin], xi[xin], 2] = 255\n",
    "        \n",
    "        if 'particles' in framedata:\n",
    "            xp = framedata['particles'].T\n",
    "            xi = np.uint32(xp[0]/a)\n",
    "            xj = np.uint32(-xp[1]/a)\n",
    "            xin = (xi >= 0) & (xi < mapview.shape[1]) & (xj >= 0) & (xj < mapview.shape[0])\n",
    "            mapview[xj[xin], xi[xin], :] = 0\n",
    "            mapview[xj[xin], xi[xin], 1] = 255\n",
    "            mapview[xj[xin], xi[xin], 2] = 0\n",
    "        \n",
    "        x = np.mean(X, axis=1)\n",
    "        P = np.cov(X)\n",
    "        x0, y0 = x[:2] / a\n",
    "        dx, dy = 20*np.cos(x[2]), 20*np.sin(x[2])\n",
    "        U, V, _ = np.linalg.svd(P[:2, :2])\n",
    "        axes = np.sqrt(V) / a\n",
    "        angle = -np.arctan2(U[0, 1], U[0, 0]) * 180 / np.pi\n",
    "        cv2.ellipse(mapview, (int(x0), -int(y0)), (int(axes[0]), int(axes[1])),\n",
    "                    angle, 0, 360, (0, 0, 220), 1)\n",
    "        cv2.circle(mapview, (int(x0), -int(y0)), 3, (0, 0, 220), 2)\n",
    "        cv2.line(mapview, (int(x0), -int(y0)), (int(x0+dx), -int(y0+dy)), (0, 0, 220), 2)\n",
    "\n",
    "        for l in range(len(L)):\n",
    "            lxy = (int(L[l, 0]/a), -int(L[l, 1]/a))                                                                        \n",
    "            cv2.circle(mapview, lxy, 3, (0, 128, 255), 3)                                                                           \n",
    "            cv2.putText(mapview, \"%d\" % l, (lxy[0] + 3, lxy[1] + 3), cv2.FONT_HERSHEY_SIMPLEX, 0.6, (0, 0, 0), 1, cv2.LINE_AA)      \n",
    "            \n",
    "        cv2.putText(mapview, tstring, (20, 30), cv2.FONT_HERSHEY_SIMPLEX, 0.5, (255, 255, 255), 1, cv2.LINE_AA)\n",
    "        cv2.imshow(\"map\", mapview)\n",
    "\n",
    "        k = cv2.waitKey()\n",
    "        if k == ord('q'):\n",
    "            break\n",
    "            ts\n",
    "    return X, activation, LL\n",
    "\n",
    "\n",
    "X, activation, LL = frameloop()\n",
    "#plt.plot(activation)\n",
    "plt.plot(np.sort(LL))\n",
    "\n",
    "cv2.destroyAllWindows()\n",
    "cv2.waitKey(1)"
   ]
  },
  {
   "cell_type": "code",
   "execution_count": 164,
   "metadata": {},
   "outputs": [
    {
     "data": {
      "text/plain": [
       "[<matplotlib.lines.Line2D at 0x7f06f9f999e8>]"
      ]
     },
     "execution_count": 164,
     "metadata": {},
     "output_type": "execute_result"
    },
    {
     "data": {
      "image/png": "[encoded data removed]",
      "text/plain": [
       "<Figure size 432x288 with 1 Axes>"
      ]
     },
     "metadata": {
      "needs_background": "light"
     },
     "output_type": "display_data"
    }
   ],
   "source": [
    "plt.plot(activation)"
   ]
  },
  {
   "cell_type": "code",
   "execution_count": 123,
   "metadata": {},
   "outputs": [
    {
     "data": {
      "text/plain": [
       "-277.80218720869436"
      ]
     },
     "execution_count": 123,
     "metadata": {},
     "output_type": "execute_result"
    }
   ],
   "source": [
    "np.sum((-np.random.randn(300)**2))"
   ]
  },
  {
   "cell_type": "code",
   "execution_count": 124,
   "metadata": {},
   "outputs": [
    {
     "data": {
      "text/plain": [
       "2.999991676931784"
      ]
     },
     "execution_count": 124,
     "metadata": {},
     "output_type": "execute_result"
    },
    {
     "data": {
      "image/png": "[encoded data removed]",
      "text/plain": [
       "<Figure size 432x288 with 1 Axes>"
      ]
     },
     "metadata": {
      "needs_background": "light"
     },
     "output_type": "display_data"
    }
   ],
   "source": [
    "t = -300.0 / np.sum(LL)\n",
    "plt.plot(np.exp(np.sort(LL * t)))\n",
    "t"
   ]
  },
  {
   "cell_type": "code",
   "execution_count": 20,
   "metadata": {},
   "outputs": [],
   "source": [
    "np.savetxt(\"uvmap1.txt\", uvm1.reshape(-1), delimiter=', ', newline=', ', comments='//', fmt='%d')"
   ]
  },
  {
   "cell_type": "code",
   "execution_count": 55,
   "metadata": {},
   "outputs": [
    {
     "data": {
      "text/plain": [
       "(14, 947, 2)"
      ]
     },
     "execution_count": 55,
     "metadata": {},
     "output_type": "execute_result"
    }
   ],
   "source": [
    "uvm1.shape"
   ]
  },
  {
   "cell_type": "code",
   "execution_count": 150,
   "metadata": {},
   "outputs": [
    {
     "data": {
      "text/plain": [
       "array([13, 13, 10, ..., 12, 11, 12])"
      ]
     },
     "execution_count": 150,
     "metadata": {},
     "output_type": "execute_result"
    }
   ],
   "source": [
    "np.random.randint(4, size=300*5) + 10"
   ]
  },
  {
   "cell_type": "code",
   "execution_count": 143,
   "metadata": {},
   "outputs": [],
   "source": []
  },
  {
   "cell_type": "code",
   "execution_count": null,
   "metadata": {},
   "outputs": [],
   "source": []
  }
 ],
 "metadata": {
  "kernelspec": {
   "display_name": "Python 3",
   "language": "python",
   "name": "python3"
  },
  "language_info": {
   "codemirror_mode": {
    "name": "ipython",
    "version": 3
   },
   "file_extension": ".py",
   "mimetype": "text/x-python",
   "name": "python",
   "nbconvert_exporter": "python",
   "pygments_lexer": "ipython3",
   "version": "3.7.3"
  }
 },
 "nbformat": 4,
 "nbformat_minor": 2
}
