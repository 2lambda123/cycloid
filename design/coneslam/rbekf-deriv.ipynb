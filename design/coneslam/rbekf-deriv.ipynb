{
 "cells": [
  {
   "cell_type": "code",
   "execution_count": 1,
   "metadata": {},
   "outputs": [],
   "source": [
    "from sympy import *\n",
    "init_printing()"
   ]
  },
  {
   "cell_type": "code",
   "execution_count": 32,
   "metadata": {},
   "outputs": [],
   "source": [
    "def printcode(vs, es, names):\n",
    "    for var, val in vs:\n",
    "        print '    %s = %s' % (var, val)\n",
    "    for i, val in enumerate(es):\n",
    "        print '    %s = %s' % (names[i], val)"
   ]
  },
  {
   "cell_type": "code",
   "execution_count": 49,
   "metadata": {
    "scrolled": true
   },
   "outputs": [
    {
     "name": "stdout",
     "output_type": "stream",
     "text": [
      "    k0 = sin(theta)\n",
      "    k1 = l_x - p_x\n",
      "    k2 = k0*k1\n",
      "    k3 = cos(theta)\n",
      "    k4 = l_y - p_y\n",
      "    k5 = k3*k4\n",
      "    k6 = k2 - k5\n",
      "    k7 = k0*k4 + k1*k3\n",
      "    k8 = l_px - atan2(k6, k7)\n",
      "    k9 = 1/(k6**2 + k7**2)\n",
      "    k10 = k7*k9\n",
      "    k11 = k9*(-k2 + k5)\n",
      "    k12 = k0*k10 + k11*k3\n",
      "    k13 = k0*k11 - k10*k3\n",
      "    k14 = k12*(k12*p11 + k13*p12) + k13*(k12*p12 + k13*p22) + r\n",
      "    y_k = k8\n",
      "    S = k14\n",
      "    H1 = k12\n",
      "    H2 = k13\n",
      "    LL = -0.5*log(4*pi**2*k14) - k8**2/k14\n"
     ]
    }
   ],
   "source": [
    "# Landmark state (just its position)\n",
    "lx, ly = symbols(\"l_x l_y\")\n",
    "X = Matrix([lx, ly])\n",
    "\n",
    "# Particle state variables\n",
    "x, y, theta = symbols(\"p_x p_y theta\", real=True)\n",
    "\n",
    "# Bearing measurement of landmark\n",
    "def bearing_measurement():\n",
    "    s, c = sin(theta), cos(theta)\n",
    "    # Note: the Y coordinate of the rotation matrix is flipped here\n",
    "    # because the relative bearing of the cone w.r.t. the center of the camera is flipped\n",
    "    # or something, I forget\n",
    "    R = Matrix([[c, s], [s, -c]])\n",
    "    lo = R * Matrix([lx - x, ly - y])\n",
    "    return Matrix([atan2(lo[1], lo[0])])\n",
    "\n",
    "h_x_bearing = bearing_measurement()\n",
    "l_px = symbols(\"l_px\")\n",
    "h_z_bearing = Matrix([l_px])\n",
    "z_bearing = Matrix([l_px])\n",
    "R_bearing = symbols(\"lm_R\")\n",
    "\n",
    "\n",
    "def generate_measurement_1d(X, h_x, h_z, z_k):\n",
    "    H = h_x.jacobian(X)\n",
    "    M = h_z.jacobian(z_k) + h_x.jacobian(z_k)\n",
    "    y_k = h_z - h_x\n",
    "    #vs, es = cse([y_k, H, M], optimizations='basic',\n",
    "    #                symbols=numbered_symbols(\"k\"))\n",
    "    #return vs, es\n",
    "    p11, p12, p22 = symbols(\"p11 p12 p22\")\n",
    "    r = symbols(\"r\")\n",
    "    P = Matrix([[p11, p12], [p12, p22]])\n",
    "    S = H*P*H.T + Matrix([[r]])\n",
    "    LL = -y_k[0,0]**2/S[0,0] - 0.5*log((2*pi)**2 * S[0,0])\n",
    "    K = P*H.T / S[0,0]\n",
    "    Pnew = (eye(2) - K*H)*P\n",
    "    Pvec = Matrix([Pnew[0,0], Pnew[0,1], Pnew[1,1]])\n",
    "    #vs, es = cse([y_k, K, LL, Pvec], optimizations='basic',\n",
    "    #                symbols=numbered_symbols(\"k\"))\n",
    "    vs, es = cse([y_k[0], S[0,0], H[0,0], H[0,1], LL], # optimizations='basic',\n",
    "                    symbols=numbered_symbols(\"k\"))\n",
    "    return vs, es, [\"y_k\", \"S\", \"H1\", \"H2\", \"LL\"]\n",
    "\n",
    "printcode(*generate_measurement_1d(X, h_x_bearing, h_z_bearing, z_bearing))"
   ]
  },
  {
   "cell_type": "code",
   "execution_count": 40,
   "metadata": {},
   "outputs": [
    {
     "name": "stdout",
     "output_type": "stream",
     "text": [
      "    k0 = 1/S\n",
      "    k1 = H2*p12\n",
      "    k2 = k0*(H1*p11 + k1)\n",
      "    k3 = H1*p12\n",
      "    k4 = H2*p22\n",
      "    k5 = k0*(k3 + k4)\n",
      "    k6 = H1*k2 - 1\n",
      "    dx = k2*y_k\n",
      "    dy = k5*y_k\n",
      "    p11 = -k1*k2 - k6*p11\n",
      "    p12 = -k2*k4 - k6*p12\n",
      "    p22 = -k3*k5 - p22*(H2*k5 - 1)\n"
     ]
    }
   ],
   "source": [
    "def generate_xP():\n",
    "    p11, p12, p22, H1, H2, S, yk = symbols(\"p11 p12 p22 H1 H2 S y_k\")\n",
    "    P = Matrix([[p11, p12], [p12, p22]])\n",
    "    H = Matrix([[H1, H2]])\n",
    "    K = P*H.T / S\n",
    "    dx = K*yk\n",
    "    Pnew = (eye(2) - K*H)*P\n",
    "    \n",
    "    vs, es = cse([dx[0], dx[1], Pnew[0, 0], Pnew[0,1], Pnew[1,1]], optimizations='basic',\n",
    "                    symbols=numbered_symbols(\"k\"))\n",
    "    return vs, es, [\"dx\", \"dy\", \"p11\", \"p12\", \"p22\"]\n",
    "\n",
    "printcode(*generate_xP())"
   ]
  },
  {
   "cell_type": "code",
   "execution_count": null,
   "metadata": {},
   "outputs": [],
   "source": []
  }
 ],
 "metadata": {
  "kernelspec": {
   "display_name": "Python 2",
   "language": "python",
   "name": "python2"
  },
  "language_info": {
   "codemirror_mode": {
    "name": "ipython",
    "version": 2
   },
   "file_extension": ".py",
   "mimetype": "text/x-python",
   "name": "python",
   "nbconvert_exporter": "python",
   "pygments_lexer": "ipython2",
   "version": "2.7.15"
  }
 },
 "nbformat": 4,
 "nbformat_minor": 2
}
