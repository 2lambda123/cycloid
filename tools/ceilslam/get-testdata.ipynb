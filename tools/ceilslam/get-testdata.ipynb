{
 "cells": [
  {
   "cell_type": "code",
   "execution_count": 1,
   "metadata": {},
   "outputs": [],
   "source": [
    "import numpy as np\n",
    "import ceiltrack\n",
    "import recordreader\n",
    "from matplotlib import pyplot as plt\n",
    "%matplotlib inline\n",
    "%load_ext autoreload\n",
    "%autoreload 2"
   ]
  },
  {
   "cell_type": "code",
   "execution_count": 2,
   "metadata": {},
   "outputs": [],
   "source": [
    "camdata = ceiltrack.genlut()"
   ]
  },
  {
   "cell_type": "code",
   "execution_count": 17,
   "metadata": {},
   "outputs": [],
   "source": [
    "f = open(\"../../logs/cl20190707/cycloid-20190707-183638.rec\", \"rb\")\n",
    "\n",
    "B = np.zeros(3)\n",
    "track = []\n",
    "imgs = []\n",
    "\n",
    "for frdata in recordreader.RecordIterator(f):\n",
    "    yuv420 = frdata['yuv420']\n",
    "    img = ((yuv420[:480] > 240) * 255).astype(np.uint8)\n",
    "    imgs.append(img)\n",
    "    xy = ceiltrack.match(img, *camdata)\n",
    "    for i in range(6):\n",
    "        c, dB = ceiltrack.cost(xy, *B)\n",
    "        B += dB\n",
    "    track.append(B.copy())\n",
    "track = np.array(track)\n",
    "\n",
    "f.close()"
   ]
  },
  {
   "cell_type": "code",
   "execution_count": null,
   "metadata": {},
   "outputs": [],
   "source": [
    "imgs = np.array(imgs)"
   ]
  },
  {
   "cell_type": "code",
   "execution_count": null,
   "metadata": {},
   "outputs": [],
   "source": [
    "plt.plot(track[:200, 0], track[:200, 1], '-x')\n",
    "plt.axis('equal')"
   ]
  },
  {
   "cell_type": "code",
   "execution_count": null,
   "metadata": {},
   "outputs": [],
   "source": [
    "plt.imshow(imgs[0])"
   ]
  },
  {
   "cell_type": "code",
   "execution_count": null,
   "metadata": {},
   "outputs": [],
   "source": [
    "imgs.shape"
   ]
  },
  {
   "cell_type": "code",
   "execution_count": null,
   "metadata": {},
   "outputs": [],
   "source": []
  },
  {
   "cell_type": "code",
   "execution_count": null,
   "metadata": {},
   "outputs": [],
   "source": [
    "o = open(\"data.raw\", \"wb\")\n",
    "o.write(imgs[:200].reshape(-1).tobytes())\n",
    "o.close()\n"
   ]
  },
  {
   "cell_type": "code",
   "execution_count": null,
   "metadata": {},
   "outputs": [],
   "source": [
    "camdata[1].shape"
   ]
  },
  {
   "cell_type": "code",
   "execution_count": null,
   "metadata": {},
   "outputs": [],
   "source": [
    "track[0]"
   ]
  },
  {
   "cell_type": "code",
   "execution_count": 5,
   "metadata": {},
   "outputs": [
    {
     "name": "stdout",
     "output_type": "stream",
     "text": [
      "[[ 5955.             0.          -430.31539977]\n",
      " [    0.          5955.          1227.96554158]\n",
      " [ -430.31539977  1227.96554158 13650.26114247]]\n",
      "[-1040.0867537  -1519.76994523  -310.4085812 ]\n",
      "0 1109.3479782677591 [0.17501874 0.25405231 0.00540275]\n",
      "[[ 5955.             0.          -423.67475999]\n",
      " [    0.          5955.          1230.27249516]\n",
      " [ -423.67475999  1230.27249516 13650.26114247]]\n",
      "[-1.57085495e-01 -2.03224780e+03 -4.63449933e+01]\n",
      "1 444.3153310114561 [ 0.17305789  0.60103303 -0.02253361]\n",
      "[[ 5955.             0.          -457.87431434]\n",
      " [    0.          5955.          1217.95805628]\n",
      " [ -457.87431434  1217.95805628 13650.26114247]]\n",
      "[  0.48046736 -67.08628556 -40.87801937]\n",
      "2 73.12423160168925 [ 0.17313321  0.61188175 -0.02050455]\n",
      "[[ 5955.             0.          -455.4020643 ]\n",
      " [    0.          5955.          1218.88460258]\n",
      " [ -455.4020643   1218.88460258 13650.26114247]]\n",
      "[ 0.00243254 -0.00990786 -0.46577587]\n",
      "3 72.7183461639427 [ 0.17313545  0.61187631 -0.02046987]\n",
      "[[ 5955.             0.          -455.35979359]\n",
      " [    0.          5955.          1218.90039502]\n",
      " [ -455.35979359  1218.90039502 13650.26114247]]\n",
      "[-1.51025736e-06  5.70745111e-06 -7.96044952e-03]\n",
      "4 72.71833797907664 [ 0.1731355   0.61187619 -0.02046928]\n",
      "[[ 5955.             0.          -455.35906758]\n",
      " [    0.          5955.          1218.90066624]\n",
      " [ -455.35906758  1218.90066624 13650.26114247]]\n",
      "[-4.55752325e-08  1.22934502e-07 -1.36721601e-04]\n",
      "5 72.7183379766648 [ 0.1731355   0.61187619 -0.02046927]\n"
     ]
    }
   ],
   "source": [
    "f = open(\"../../logs/cl20190707/cycloid-20190707-183638.rec\", \"rb\")\n",
    "\n",
    "B = np.zeros(3)\n",
    "\n",
    "for frdata in recordreader.RecordIterator(f):\n",
    "    yuv420 = frdata['yuv420']\n",
    "    img = ((yuv420[:480] > 240) * 255).astype(np.uint8)\n",
    "    xy = ceiltrack.match(img, *camdata)\n",
    "    for i in range(6):\n",
    "        c, dB = ceiltrack.cost(xy, *B)\n",
    "        B += dB\n",
    "        print(i, c, B)\n",
    "    break\n",
    "\n",
    "f.close()"
   ]
  },
  {
   "cell_type": "code",
   "execution_count": 30,
   "metadata": {},
   "outputs": [
    {
     "data": {
      "text/plain": [
       "[<matplotlib.lines.Line2D at 0x141d91630>]"
      ]
     },
     "execution_count": 30,
     "metadata": {},
     "output_type": "execute_result"
    },
    {
     "data": {
      "image/png": "[encoded data removed]",
      "text/plain": [
       "<Figure size 432x288 with 1 Axes>"
      ]
     },
     "metadata": {
      "needs_background": "light"
     },
     "output_type": "display_data"
    }
   ],
   "source": [
    "t = np.linspace(-10, 10, 100)\n",
    "plt.plot(t, np.remainder(t + 2.5, 5.0) - 2.5)\n",
    "plt.plot(t, 5*(t/5.0 - np.round(t / 5.0)))"
   ]
  },
  {
   "cell_type": "code",
   "execution_count": 23,
   "metadata": {},
   "outputs": [],
   "source": [
    "f = open(\"golden.txt\", \"w\")\n",
    "for t in track:\n",
    "    f.write(\"%f %f %f\\n\" % tuple(t))\n",
    "f.close()"
   ]
  },
  {
   "cell_type": "code",
   "execution_count": null,
   "metadata": {},
   "outputs": [],
   "source": []
  }
 ],
 "metadata": {
  "kernelspec": {
   "display_name": "Python 3",
   "language": "python",
   "name": "python3"
  },
  "language_info": {
   "codemirror_mode": {
    "name": "ipython",
    "version": 3
   },
   "file_extension": ".py",
   "mimetype": "text/x-python",
   "name": "python",
   "nbconvert_exporter": "python",
   "pygments_lexer": "ipython3",
   "version": "3.7.3"
  }
 },
 "nbformat": 4,
 "nbformat_minor": 2
}
